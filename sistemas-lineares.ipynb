{
 "cells": [
  {
   "cell_type": "markdown",
   "metadata": {},
   "source": [
    "# Solução de sistemas lineares através da eliminação de Gauss"
   ]
  },
  {
   "cell_type": "markdown",
   "metadata": {},
   "source": [
    "## License\n",
    "\n",
    "All content can be freely used and adapted under the terms of the \n",
    "[Creative Commons Attribution 4.0 International License](http://creativecommons.org/licenses/by/4.0/).\n",
    "\n",
    "![Creative Commons License](https://i.creativecommons.org/l/by/4.0/88x31.png)"
   ]
  },
  {
   "cell_type": "markdown",
   "metadata": {},
   "source": [
    "## Imports\n",
    "\n",
    "Coloque **todos** os `import` na célula abaixo. Não se esqueça do `%matplotlib inline` para que os gráficos apareçam no notebook."
   ]
  },
  {
   "cell_type": "code",
   "execution_count": 19,
   "metadata": {
    "collapsed": true
   },
   "outputs": [],
   "source": [
    "import numpy as np\n",
    "import math\n",
    "%matplotlib inline\n",
    "import matplotlib.pyplot as plt"
   ]
  },
  {
   "cell_type": "raw",
   "metadata": {},
   "source": [
    "## Tarefa\n",
    "\n",
    "Reduza o sistema linear $\\bar{\\bar{A}}\\bar{x} = \\bar{b}$ para sua forma escalonada (row echelon form)."
   ]
  },
  {
   "cell_type": "code",
   "execution_count": 20,
   "metadata": {
    "collapsed": false
   },
   "outputs": [],
   "source": [
    "N = 11  # Número de linhas\n",
    "M = 11  # Número de colunas\n",
    "sistema = [[25, 108, 58, 102, 61, 24, 39, 40, 67, 11, 5],\n",
    "           [51, 28, 17, 98, 105, 43, 86, 2, 71, 20, 95],\n",
    "           [56, 70, 109, 45, 117, 52, 97, 92, 1, 42, 78],\n",
    "           [59, 6, 50, 37, 120, 118, 104, 64, 53, 100, 66],\n",
    "           [82, 74, 68, 80, 16, 115, 63, 103, 60, 30, 93],\n",
    "           [79, 113, 65, 72, 22, 35, 101, 10, 83, 89, 85],\n",
    "           [34, 57, 90, 9, 14, 47, 76, 44, 26, 48, 114],\n",
    "           [41, 7, 21, 75, 33, 49, 32, 119, 46, 0, 87],\n",
    "           [91, 77, 55, 18, 106, 54, 116, 12, 13, 31, 38],\n",
    "           [27, 81, 29, 107, 84, 15, 3, 112, 88, 69, 19],\n",
    "           [110, 96, 23, 73, 36, 8, 99, 4, 94, 111, 62]]\n",
    "lado_direito = [3323, 2869, 4085, 3211, 4181, 3831, 2699, 2891, 3188, 3586, 3598]"
   ]
  },
  {
   "cell_type": "code",
   "execution_count": 27,
   "metadata": {
    "collapsed": false
   },
   "outputs": [],
   "source": [
    "for k in range (0, N): # linha k variando de 0 a N - 1\n",
    "    for i in range (k + 1, N): # para cada linha i variando de k + 1 até N - 1\n",
    "        fator = - sistema[i][k]/sistema [k][k] # calculamos a variável fator para a multiplicar pelos elementos da linha k para podermos escalonar a matriz\n",
    "        for j in range (k, N): # para cada coluna j variando de k até N - 1\n",
    "            sistema [i][j] = sistema [i][j] + sistema [k][j]*fator # escalonamos a matriz, subtraindo de cada posição ij da matriz sistema a posição kj multiplicada pelo fator (negativo) \n",
    "        lado_direito[i] = lado_direito[i] + lado_direito [k]*fator # subtraímos de cada posição i da lista lado_direito a posição k da lista lado_direito multiplicada pelo fator (negativo)\n"
   ]
  },
  {
   "cell_type": "markdown",
   "metadata": {},
   "source": [
    "### Resultado esperado\n",
    "\n",
    "Quando executada, a célula abaixo deverá imprimir exatamente:\n",
    "\n",
    "                                                   A                                                   |    b \n",
    "      25.000  108.000   58.000  102.000   61.000   24.000   39.000   40.000   67.000   11.000    5.000 | 3323.000\n",
    "       0.000 -192.320 -101.320 -110.080  -19.440   -5.960    6.440  -79.600  -65.680   -2.440   84.800 | -3909.920\n",
    "      -0.000    0.000   69.653  -85.077   -2.262    3.568    3.883   73.557  -90.367   19.541   -9.005 |  136.662\n",
    "       0.000    0.000    0.000   -7.233    2.634   66.807    1.160   25.893   37.269   64.787  -49.820 |  341.724\n",
    "       0.000    0.000    0.000    0.000 -177.918 -539.479  -85.844 -165.046 -356.419 -575.159  391.184 | -4053.756\n",
    "       0.000    0.000    0.000    0.000   -0.000 -539.656   43.030 -267.157 -271.025 -378.300  357.879 | -3235.329\n",
    "       0.000    0.000    0.000    0.000    0.000    0.000   55.468  -69.824   59.860   57.791   78.381 |  141.706\n",
    "       0.000    0.000    0.000    0.000    0.000    0.000    0.000   70.381   24.471   60.345  -29.950 |  741.794\n",
    "       0.000    0.000    0.000    0.000    0.000    0.000    0.000    0.000  -16.843 -126.224   62.584 |   57.797\n",
    "       0.000    0.000    0.000    0.000    0.000    0.000    0.000    0.000    0.000 -291.983  268.919 |  537.838\n",
    "      -0.000    0.000    0.000    0.000    0.000    0.000    0.000    0.000    0.000    0.000  -71.547 | -143.094\n"
   ]
  },
  {
   "cell_type": "code",
   "execution_count": 23,
   "metadata": {
    "collapsed": false
   },
   "outputs": [
    {
     "name": "stdout",
     "output_type": "stream",
     "text": [
      "                                               A                                                   |    b \n",
      "  25.000  108.000   58.000  102.000   61.000   24.000   39.000   40.000   67.000   11.000    5.000 |3323.000\n",
      "   0.000 -192.320 -101.320 -110.080  -19.440   -5.960    6.440  -79.600  -65.680   -2.440   84.800 |-3909.920\n",
      "   0.000    0.000   69.653  -85.077   -2.262    3.568    3.883   73.557  -90.367   19.541   -9.005 | 136.662\n",
      "   0.000    0.000    0.000   -7.233    2.634   66.807    1.160   25.893   37.269   64.787  -49.820 | 341.724\n",
      "   0.000    0.000    0.000    0.000 -177.918 -539.479  -85.844 -165.046 -356.419 -575.159  391.184 |-4053.756\n",
      "   0.000    0.000    0.000    0.000    0.000 -539.656   43.030 -267.157 -271.025 -378.300  357.879 |-3235.329\n",
      "   0.000    0.000    0.000    0.000    0.000    0.000   55.468  -69.824   59.860   57.791   78.381 | 141.706\n",
      "   0.000    0.000    0.000    0.000    0.000    0.000    0.000   70.381   24.471   60.345  -29.950 | 741.794\n",
      "   0.000    0.000    0.000    0.000    0.000    0.000    0.000    0.000  -16.843 -126.224   62.584 |  57.797\n",
      "   0.000    0.000    0.000    0.000    0.000    0.000    0.000    0.000    0.000 -291.983  268.919 | 537.838\n",
      "  -0.000    0.000    0.000    0.000    0.000    0.000    0.000   -0.000    0.000    0.000  -71.547 |-143.094\n"
     ]
    }
   ],
   "source": [
    "print('                                               A                                                   |    b ')\n",
    "for i in range(N):\n",
    "    for j in range(M):\n",
    "        print('{:8.3f} '.format(sistema[i][j]), end='')\n",
    "    print('|{:8.3f}'.format(lado_direito[i]))"
   ]
  },
  {
   "cell_type": "markdown",
   "metadata": {},
   "source": [
    "## Tarefa\n",
    "\n",
    "Utilize a matriz escalonada acima para encontrar a solução do sistema através da substituição retrocedida (back substitution). Coloque a solução em uma lista chamada `solucao`.\n",
    "\n",
    "**Dica**: \n",
    "\n",
    "* Para criar uma lista com um mesmo valor repetido N vezes: `[numero]*N`. Por exemplo, `[0]*4` resulta em `[0, 0, 0, 0]`."
   ]
  },
  {
   "cell_type": "code",
   "execution_count": 16,
   "metadata": {
    "collapsed": false
   },
   "outputs": [
    {
     "name": "stdout",
     "output_type": "stream",
     "text": [
      "[5.999999999999891, 9.000000000000153, 4.99999999999979, 7.000000000000029, 2.9999999999999796, 1.0000000000000544, 8.000000000000094, 10.000000000000036, 3.999999999999848, 5.0227639466607155e-14, 2.0000000000000404]\n"
     ]
    }
   ],
   "source": [
    "solucao = [0]*M # Criamos a lista solucao contendo M = 11 elementos para podermos substituílos pelo resultado do sistema posteriormente\n",
    "for k in range(N - 1, -1, -1): # k variando de N - 1 até 0, de -1 em -1, pois para calcular x precisamos começar do maior k para o menor\n",
    "    soma = 0 # definimos soma = 0 toda vez que o k mudar\n",
    "    for i in range (k + 1, N): # i variando de k + 1 até N - 1, de 1 em 1\n",
    "        soma = soma + (sistema[k][i]*solucao[i]) # calculamos esse somatório a partir da fórmula no caderno para podermos encontrar os valore de x\n",
    "    x = (lado_direito[k] - soma)/sistema[k][k] # calculamos o x para cada k\n",
    "    solucao[k] = x # substituímos o valor de x para cada k na posição k da lista solucao\n",
    "print(solucao) # imprimimos a lista solucao, contendo os valores de x"
   ]
  },
  {
   "cell_type": "markdown",
   "metadata": {},
   "source": [
    "### Resultado esperado\n",
    "\n",
    "Quando executada, a célula abaixo deverá imprimir exatamente:\n",
    "\n",
    "    6.000000 9.000000 5.000000 7.000000 3.000000 1.000000 8.000000 10.000000 4.000000 0.000000 2.000000 "
   ]
  },
  {
   "cell_type": "code",
   "execution_count": 17,
   "metadata": {
    "collapsed": false
   },
   "outputs": [
    {
     "name": "stdout",
     "output_type": "stream",
     "text": [
      "6.000000 9.000000 5.000000 7.000000 3.000000 1.000000 8.000000 10.000000 4.000000 0.000000 2.000000 "
     ]
    }
   ],
   "source": [
    "for i in range(N):\n",
    "    print('{:8.6f} '.format(solucao[i]), end='')"
   ]
  },
  {
   "cell_type": "markdown",
   "metadata": {},
   "source": [
    "## Tarefa Bônus"
   ]
  },
  {
   "cell_type": "markdown",
   "metadata": {},
   "source": [
    "Sua tarefa será aplicar a eliminação de Gauss para resolver o sistema linear gerado abaixo."
   ]
  },
  {
   "cell_type": "code",
   "execution_count": 8,
   "metadata": {
    "collapsed": false
   },
   "outputs": [],
   "source": [
    "# Para tornar a vida mais interessante, vamos gerar um sistema linear aleatório\n",
    "N, M = 13, 13\n",
    "A = np.random.random_integers(10, 50, size=(N, M)).tolist()\n",
    "for i in range(N):\n",
    "    A[i][i] = 0\n",
    "b = np.dot(A, np.random.random_integers(1, 20, size=N)).tolist()"
   ]
  },
  {
   "cell_type": "code",
   "execution_count": 9,
   "metadata": {
    "collapsed": false
   },
   "outputs": [
    {
     "name": "stdout",
     "output_type": "stream",
     "text": [
      "                                                   A                                                    |    b \n",
      "    0.0    31.0    26.0    48.0    10.0    44.0    39.0    40.0    25.0    24.0    21.0    11.0    12.0 |  4307.0\n",
      "   12.0     0.0    43.0    48.0    36.0    11.0    32.0    39.0    48.0    32.0    18.0    34.0    43.0 |  5037.0\n",
      "   22.0    24.0     0.0    25.0    16.0    21.0    47.0    31.0    37.0    35.0    28.0    20.0    15.0 |  4469.0\n",
      "   36.0    30.0    42.0     0.0    23.0    48.0    30.0    39.0    40.0    13.0    15.0    35.0    50.0 |  5341.0\n",
      "   38.0    30.0    10.0    15.0     0.0    15.0    46.0    37.0    30.0    29.0    29.0    34.0    28.0 |  4607.0\n",
      "   10.0    49.0    41.0    47.0    12.0     0.0    45.0    40.0    25.0    12.0    15.0    50.0    22.0 |  4721.0\n",
      "   13.0    13.0    26.0    42.0    32.0    48.0     0.0    13.0    40.0    10.0    19.0    15.0    49.0 |  4286.0\n",
      "   50.0    49.0    20.0    33.0    29.0    15.0    42.0     0.0    37.0    31.0    16.0    49.0    39.0 |  6006.0\n",
      "   30.0    41.0    24.0    25.0    23.0    18.0    18.0    26.0     0.0    38.0    48.0    19.0    49.0 |  4930.0\n",
      "   40.0    36.0    19.0    47.0    19.0    17.0    22.0    29.0    31.0     0.0    31.0    13.0    27.0 |  4469.0\n",
      "   15.0    15.0    38.0    13.0    35.0    13.0    50.0    21.0    42.0    42.0     0.0    18.0    35.0 |  4555.0\n",
      "   47.0    19.0    23.0    45.0    19.0    43.0    28.0    40.0    21.0    20.0    48.0     0.0    10.0 |  5035.0\n",
      "   32.0    38.0    38.0    30.0    13.0    25.0    50.0    43.0    49.0    44.0    24.0    40.0     0.0 |  5955.0\n"
     ]
    }
   ],
   "source": [
    "print('                                                   A                                                    |    b ')\n",
    "for i in range(N):\n",
    "    for j in range(M):\n",
    "        print('{:7.1f} '.format(A[i][j]), end='')\n",
    "    print('| {:7.1f}'.format(b[i]))"
   ]
  },
  {
   "cell_type": "markdown",
   "metadata": {},
   "source": [
    "Porém, há um problema. Você não poderá fazer isso diretamente pois $A_{ii} == 0$ (a diagonal da matriz é zero). Logo, não há como dividir pelo elemento pivo e não há como aplicar a eliminação de Gauss nesse sistema. **Experimente aplicar a eliminação convencional que você implementou acima nesse sistema e veja o que acontece.**"
   ]
  },
  {
   "cell_type": "code",
   "execution_count": null,
   "metadata": {
    "collapsed": true
   },
   "outputs": [],
   "source": []
  },
  {
   "cell_type": "markdown",
   "metadata": {},
   "source": [
    "\n",
    "\n",
    "### Condensação pivotal (partial pivoting)\n",
    "\n",
    "Existe um método para contornar esse problema chamado **condensação pivotal** (partial pivoting). A ideia é que podemos trocar duas linhas do sistema de lugar sem alterar a solução. Logo, podemos tirar os elementos 0 da diagonal da matriz trocando por outra linha sem o 0 na posição do pivo. Um jeito melhor ainda de fazer isso é colocando a linha com o **maior elemento** possível na posição do pivo (veja [aqui uma ótima explicação disso](http://www.math.iitb.ac.in/~neela/partialpivot.pdf)). \n",
    "\n",
    "O método da eliminação de Gauss com condensação pivotal é:\n",
    "\n",
    "    Para cada linha k do sistema:\n",
    "        Ache a linha de A com o maior elemento na coluna k (só precisa considerar de k para baixo)\n",
    "        Troque a linha k com a linha determinada acima (não esqueça de trocar o lado direito também)\n",
    "        pivo = A[k][k]\n",
    "        Escalonamento para zerar a coluna k (igual ao feita na eliminação convencional)\n",
    "        \n",
    "        \n",
    "Resolva o sistema linear definido acima utilizando eliminação de Gauss com condensação pivotal. Coloque a solução em uma variável chamada `solucao`."
   ]
  },
  {
   "cell_type": "code",
   "execution_count": null,
   "metadata": {
    "collapsed": false
   },
   "outputs": [],
   "source": []
  },
  {
   "cell_type": "code",
   "execution_count": null,
   "metadata": {
    "collapsed": false
   },
   "outputs": [],
   "source": []
  },
  {
   "cell_type": "code",
   "execution_count": null,
   "metadata": {
    "collapsed": true
   },
   "outputs": [],
   "source": []
  },
  {
   "cell_type": "markdown",
   "metadata": {},
   "source": [
    "### Resultado esperado\n",
    "\n",
    "Quando executada, a célula abaixo deverá imprimir `True`."
   ]
  },
  {
   "cell_type": "code",
   "execution_count": 10,
   "metadata": {
    "collapsed": false
   },
   "outputs": [
    {
     "ename": "ValueError",
     "evalue": "operands could not be broadcast together with shapes (13,) (11,) ",
     "output_type": "error",
     "traceback": [
      "\u001b[1;31m---------------------------------------------------------------------------\u001b[0m",
      "\u001b[1;31mValueError\u001b[0m                                Traceback (most recent call last)",
      "\u001b[1;32m<ipython-input-10-04d9c6403bab>\u001b[0m in \u001b[0;36m<module>\u001b[1;34m()\u001b[0m\n\u001b[1;32m----> 1\u001b[1;33m \u001b[0mprint\u001b[0m\u001b[1;33m(\u001b[0m\u001b[0mnp\u001b[0m\u001b[1;33m.\u001b[0m\u001b[0mallclose\u001b[0m\u001b[1;33m(\u001b[0m\u001b[0mnp\u001b[0m\u001b[1;33m.\u001b[0m\u001b[0mlinalg\u001b[0m\u001b[1;33m.\u001b[0m\u001b[0msolve\u001b[0m\u001b[1;33m(\u001b[0m\u001b[0mA\u001b[0m\u001b[1;33m,\u001b[0m \u001b[0mb\u001b[0m\u001b[1;33m)\u001b[0m\u001b[1;33m,\u001b[0m \u001b[0msolucao\u001b[0m\u001b[1;33m)\u001b[0m\u001b[1;33m)\u001b[0m\u001b[1;33m\u001b[0m\u001b[0m\n\u001b[0m",
      "\u001b[1;32mC:\\Users\\Betht\\Anaconda3\\lib\\site-packages\\numpy\\core\\numeric.py\u001b[0m in \u001b[0;36mallclose\u001b[1;34m(a, b, rtol, atol)\u001b[0m\n\u001b[0;32m   2232\u001b[0m     \u001b[1;31m# ignore invalid fpe's\u001b[0m\u001b[1;33m\u001b[0m\u001b[1;33m\u001b[0m\u001b[0m\n\u001b[0;32m   2233\u001b[0m     \u001b[1;32mwith\u001b[0m \u001b[0merrstate\u001b[0m\u001b[1;33m(\u001b[0m\u001b[0minvalid\u001b[0m\u001b[1;33m=\u001b[0m\u001b[1;34m'ignore'\u001b[0m\u001b[1;33m)\u001b[0m\u001b[1;33m:\u001b[0m\u001b[1;33m\u001b[0m\u001b[0m\n\u001b[1;32m-> 2234\u001b[1;33m         \u001b[0mr\u001b[0m \u001b[1;33m=\u001b[0m \u001b[0mall\u001b[0m\u001b[1;33m(\u001b[0m\u001b[0mless_equal\u001b[0m\u001b[1;33m(\u001b[0m\u001b[0mabs\u001b[0m\u001b[1;33m(\u001b[0m\u001b[0mx\u001b[0m \u001b[1;33m-\u001b[0m \u001b[0my\u001b[0m\u001b[1;33m)\u001b[0m\u001b[1;33m,\u001b[0m \u001b[0matol\u001b[0m \u001b[1;33m+\u001b[0m \u001b[0mrtol\u001b[0m \u001b[1;33m*\u001b[0m \u001b[0mabs\u001b[0m\u001b[1;33m(\u001b[0m\u001b[0my\u001b[0m\u001b[1;33m)\u001b[0m\u001b[1;33m)\u001b[0m\u001b[1;33m)\u001b[0m\u001b[1;33m\u001b[0m\u001b[0m\n\u001b[0m\u001b[0;32m   2235\u001b[0m \u001b[1;33m\u001b[0m\u001b[0m\n\u001b[0;32m   2236\u001b[0m     \u001b[1;32mreturn\u001b[0m \u001b[0mr\u001b[0m\u001b[1;33m\u001b[0m\u001b[0m\n",
      "\u001b[1;31mValueError\u001b[0m: operands could not be broadcast together with shapes (13,) (11,) "
     ]
    }
   ],
   "source": [
    "print(np.allclose(np.linalg.solve(A, b), solucao))"
   ]
  }
 ],
 "metadata": {
  "kernelspec": {
   "display_name": "Python 3",
   "language": "python",
   "name": "python3"
  },
  "language_info": {
   "codemirror_mode": {
    "name": "ipython",
    "version": 3
   },
   "file_extension": ".py",
   "mimetype": "text/x-python",
   "name": "python",
   "nbconvert_exporter": "python",
   "pygments_lexer": "ipython3",
   "version": "3.4.3"
  }
 },
 "nbformat": 4,
 "nbformat_minor": 0
}
